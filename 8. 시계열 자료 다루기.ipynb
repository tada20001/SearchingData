{
 "cells": [
  {
   "cell_type": "markdown",
   "metadata": {},
   "source": [
    "시계열 자료는 인덱스가 날짜 혹은 시간인 데이터를 말한다."
   ]
  },
  {
   "cell_type": "markdown",
   "metadata": {},
   "source": [
    "Pandas에서 시계열 자료를 생성하려면 인덱스를 DatetimeIndex 자료형으로 만들어야 한다. DatetimeIndex는 특정한 순간에 기록된 타임스탬프(timestamp) 형식의 시계열 자료를 다루기 위한 인덱스이다. 타임스탬프 인덱스의 라벨값이 반드시 일정한 간격일 필요는 없다."
   ]
  },
  {
   "cell_type": "markdown",
   "metadata": {},
   "source": [
    "DatetimeIndex 인덱스는 다음과 같은 보조 함수를 사용하여 생성한다.\n",
    "\n",
    "+ pd.to_datetime 함수\n",
    "+ pd.date_range 함수"
   ]
  },
  {
   "cell_type": "markdown",
   "metadata": {},
   "source": [
    "pd.to_datetime 함수를 쓰면 날짜/시간을 나타내는 문자열을 자동으로 datetime 자료형으로 바꾼 후 DatetimeIndex 자료형 인덱스를 생성한다."
   ]
  },
  {
   "cell_type": "code",
   "execution_count": 2,
   "metadata": {},
   "outputs": [
    {
     "data": {
      "text/plain": [
       "DatetimeIndex(['2018-01-01', '2018-01-04', '2018-01-05', '2018-01-06'], dtype='datetime64[ns]', freq=None)"
      ]
     },
     "execution_count": 2,
     "metadata": {},
     "output_type": "execute_result"
    }
   ],
   "source": [
    "import pandas as pd\n",
    "\n",
    "date_str = [\"2018, 1, 1\", \"2018, 1, 4\", \"2018, 1, 5\", \"2018, 1, 6\"]\n",
    "idx = pd.to_datetime(date_str)\n",
    "idx"
   ]
  },
  {
   "cell_type": "code",
   "execution_count": 3,
   "metadata": {},
   "outputs": [
    {
     "data": {
      "text/plain": [
       "pandas.core.indexes.datetimes.DatetimeIndex"
      ]
     },
     "execution_count": 3,
     "metadata": {},
     "output_type": "execute_result"
    }
   ],
   "source": [
    "type(idx)"
   ]
  },
  {
   "cell_type": "markdown",
   "metadata": {},
   "source": [
    "이렇게 만들어진 인덱스를 사용하여 시리즈나 데이터프레임을 생성하면 된다."
   ]
  },
  {
   "cell_type": "code",
   "execution_count": 4,
   "metadata": {},
   "outputs": [],
   "source": [
    "import numpy as np"
   ]
  },
  {
   "cell_type": "code",
   "execution_count": 5,
   "metadata": {},
   "outputs": [
    {
     "data": {
      "text/plain": [
       "2018-01-01    1.764052\n",
       "2018-01-04    0.400157\n",
       "2018-01-05    0.978738\n",
       "2018-01-06    2.240893\n",
       "dtype: float64"
      ]
     },
     "execution_count": 5,
     "metadata": {},
     "output_type": "execute_result"
    }
   ],
   "source": [
    "np.random.seed(0)\n",
    "s = pd.Series(np.random.randn(4), index=idx) # 4-size 1D-array(가우시안 정규분포)\n",
    "s"
   ]
  },
  {
   "cell_type": "markdown",
   "metadata": {},
   "source": [
    "pd.date_range 함수를 쓰면 모든 날짜/시간을 일일히 입력할 필요없이 시작일과 종료일 또는 시작일과 기간을 입력하면 범위 내의 인덱스를 생성해 준다."
   ]
  },
  {
   "cell_type": "code",
   "execution_count": 6,
   "metadata": {},
   "outputs": [
    {
     "data": {
      "text/plain": [
       "DatetimeIndex(['2018-04-01', '2018-04-02', '2018-04-03', '2018-04-04',\n",
       "               '2018-04-05', '2018-04-06', '2018-04-07', '2018-04-08',\n",
       "               '2018-04-09', '2018-04-10', '2018-04-11', '2018-04-12',\n",
       "               '2018-04-13', '2018-04-14', '2018-04-15', '2018-04-16',\n",
       "               '2018-04-17', '2018-04-18', '2018-04-19', '2018-04-20',\n",
       "               '2018-04-21', '2018-04-22', '2018-04-23', '2018-04-24',\n",
       "               '2018-04-25', '2018-04-26', '2018-04-27', '2018-04-28',\n",
       "               '2018-04-29', '2018-04-30'],\n",
       "              dtype='datetime64[ns]', freq='D')"
      ]
     },
     "execution_count": 6,
     "metadata": {},
     "output_type": "execute_result"
    }
   ],
   "source": [
    "pd.date_range(\"2018-4-1\", \"2018-4-30\")  # April index"
   ]
  },
  {
   "cell_type": "code",
   "execution_count": 7,
   "metadata": {},
   "outputs": [
    {
     "data": {
      "text/plain": [
       "DatetimeIndex(['2018-04-01', '2018-04-02', '2018-04-03', '2018-04-04',\n",
       "               '2018-04-05', '2018-04-06', '2018-04-07', '2018-04-08',\n",
       "               '2018-04-09', '2018-04-10', '2018-04-11', '2018-04-12',\n",
       "               '2018-04-13', '2018-04-14', '2018-04-15', '2018-04-16',\n",
       "               '2018-04-17', '2018-04-18', '2018-04-19', '2018-04-20',\n",
       "               '2018-04-21', '2018-04-22', '2018-04-23', '2018-04-24',\n",
       "               '2018-04-25', '2018-04-26', '2018-04-27', '2018-04-28',\n",
       "               '2018-04-29', '2018-04-30'],\n",
       "              dtype='datetime64[ns]', freq='D')"
      ]
     },
     "execution_count": 7,
     "metadata": {},
     "output_type": "execute_result"
    }
   ],
   "source": [
    "pd.date_range(\"2018-4-1\", periods=30)  #위와 동일"
   ]
  },
  {
   "cell_type": "markdown",
   "metadata": {},
   "source": [
    "freq 인수로 특정한 날짜만 생성되도록 할 수도 있다. 많이 사용되는 freq 인수값은 다음과 같다.\n",
    "\n",
    "+ s: 초\n",
    "+ T: 분\n",
    "+ H: 시간\n",
    "+ D: 일(day)\n",
    "+ B: 주말이 아닌 평일\n",
    "+ W: 주(일요일)\n",
    "+ W-MON: 주(월요일)\n",
    "+ M: 각 달(month)의 마지막 날\n",
    "+ MS: 각 달의 첫날\n",
    "+ BM: 주말이 아닌 평일 중에서 각 달의 마지막 날\n",
    "+ BMS: 주말이 아닌 평일 중에서 각 달의 첫날\n",
    "+ WOM-2THU: 각 달의 두번째 목요일\n",
    "+ Q-JAN: 각 분기의 첫달의 마지막 날\n",
    "+ Q-DEC: 각 분기의 마지막 달의 마지막 날\n",
    "\n",
    "http://pandas.pydata.org/pandas-docs/stable/timeseries.html#offset-aliases"
   ]
  },
  {
   "cell_type": "code",
   "execution_count": 8,
   "metadata": {},
   "outputs": [
    {
     "data": {
      "text/plain": [
       "DatetimeIndex(['2018-04-02', '2018-04-03', '2018-04-04', '2018-04-05',\n",
       "               '2018-04-06', '2018-04-09', '2018-04-10', '2018-04-11',\n",
       "               '2018-04-12', '2018-04-13', '2018-04-16', '2018-04-17',\n",
       "               '2018-04-18', '2018-04-19', '2018-04-20', '2018-04-23',\n",
       "               '2018-04-24', '2018-04-25', '2018-04-26', '2018-04-27',\n",
       "               '2018-04-30'],\n",
       "              dtype='datetime64[ns]', freq='B')"
      ]
     },
     "execution_count": 8,
     "metadata": {},
     "output_type": "execute_result"
    }
   ],
   "source": [
    "pd.date_range(\"2018-4-1\", \"2018-4-30\", freq='B') # 평일만 생성"
   ]
  },
  {
   "cell_type": "code",
   "execution_count": 10,
   "metadata": {},
   "outputs": [
    {
     "data": {
      "text/plain": [
       "DatetimeIndex(['2018-01-07', '2018-01-14', '2018-01-21', '2018-01-28',\n",
       "               '2018-02-04', '2018-02-11', '2018-02-18', '2018-02-25',\n",
       "               '2018-03-04', '2018-03-11', '2018-03-18', '2018-03-25',\n",
       "               '2018-04-01', '2018-04-08', '2018-04-15', '2018-04-22',\n",
       "               '2018-04-29', '2018-05-06', '2018-05-13', '2018-05-20',\n",
       "               '2018-05-27', '2018-06-03', '2018-06-10', '2018-06-17',\n",
       "               '2018-06-24', '2018-07-01', '2018-07-08', '2018-07-15',\n",
       "               '2018-07-22', '2018-07-29', '2018-08-05', '2018-08-12',\n",
       "               '2018-08-19', '2018-08-26', '2018-09-02', '2018-09-09',\n",
       "               '2018-09-16', '2018-09-23', '2018-09-30', '2018-10-07',\n",
       "               '2018-10-14', '2018-10-21', '2018-10-28', '2018-11-04',\n",
       "               '2018-11-11', '2018-11-18', '2018-11-25', '2018-12-02',\n",
       "               '2018-12-09', '2018-12-16', '2018-12-23', '2018-12-30'],\n",
       "              dtype='datetime64[ns]', freq='W-SUN')"
      ]
     },
     "execution_count": 10,
     "metadata": {},
     "output_type": "execute_result"
    }
   ],
   "source": [
    "pd.date_range(\"2018-1-1\", \"2018-12-31\", freq=\"W\")  #일요일만 생성"
   ]
  },
  {
   "cell_type": "code",
   "execution_count": 11,
   "metadata": {},
   "outputs": [
    {
     "data": {
      "text/plain": [
       "DatetimeIndex(['2018-01-01', '2018-01-08', '2018-01-15', '2018-01-22',\n",
       "               '2018-01-29', '2018-02-05', '2018-02-12', '2018-02-19',\n",
       "               '2018-02-26', '2018-03-05', '2018-03-12', '2018-03-19',\n",
       "               '2018-03-26', '2018-04-02', '2018-04-09', '2018-04-16',\n",
       "               '2018-04-23', '2018-04-30', '2018-05-07', '2018-05-14',\n",
       "               '2018-05-21', '2018-05-28', '2018-06-04', '2018-06-11',\n",
       "               '2018-06-18', '2018-06-25', '2018-07-02', '2018-07-09',\n",
       "               '2018-07-16', '2018-07-23', '2018-07-30', '2018-08-06',\n",
       "               '2018-08-13', '2018-08-20', '2018-08-27', '2018-09-03',\n",
       "               '2018-09-10', '2018-09-17', '2018-09-24', '2018-10-01',\n",
       "               '2018-10-08', '2018-10-15', '2018-10-22', '2018-10-29',\n",
       "               '2018-11-05', '2018-11-12', '2018-11-19', '2018-11-26',\n",
       "               '2018-12-03', '2018-12-10', '2018-12-17', '2018-12-24',\n",
       "               '2018-12-31'],\n",
       "              dtype='datetime64[ns]', freq='W-MON')"
      ]
     },
     "execution_count": 11,
     "metadata": {},
     "output_type": "execute_result"
    }
   ],
   "source": [
    "pd.date_range(\"2018-1-1\", \"2018-12-31\", freq=\"W-MON\") #월요일만 생성"
   ]
  },
  {
   "cell_type": "code",
   "execution_count": 12,
   "metadata": {},
   "outputs": [
    {
     "data": {
      "text/plain": [
       "DatetimeIndex(['2018-01-01', '2018-02-01', '2018-03-01', '2018-04-01',\n",
       "               '2018-05-01', '2018-06-01', '2018-07-01', '2018-08-01',\n",
       "               '2018-09-01', '2018-10-01', '2018-11-01', '2018-12-01'],\n",
       "              dtype='datetime64[ns]', freq='MS')"
      ]
     },
     "execution_count": 12,
     "metadata": {},
     "output_type": "execute_result"
    }
   ],
   "source": [
    "pd.date_range(\"2018-1-1\", \"2018-12-31\", freq=\"MS\") # 각 달의 첫날만 생성"
   ]
  },
  {
   "cell_type": "code",
   "execution_count": 13,
   "metadata": {},
   "outputs": [
    {
     "data": {
      "text/plain": [
       "DatetimeIndex(['2018-04-30', '2018-05-31', '2018-06-30', '2018-07-31',\n",
       "               '2018-08-31', '2018-09-30', '2018-10-31', '2018-11-30',\n",
       "               '2018-12-31'],\n",
       "              dtype='datetime64[ns]', freq='M')"
      ]
     },
     "execution_count": 13,
     "metadata": {},
     "output_type": "execute_result"
    }
   ],
   "source": [
    "pd.date_range(\"2018-4-1\", \"2018-12-31\", freq=\"M\")  #각 달의 마지막날만 생성"
   ]
  },
  {
   "cell_type": "code",
   "execution_count": 14,
   "metadata": {},
   "outputs": [
    {
     "data": {
      "text/plain": [
       "DatetimeIndex(['2018-04-02', '2018-05-01', '2018-06-01', '2018-07-02',\n",
       "               '2018-08-01', '2018-09-03', '2018-10-01', '2018-11-01',\n",
       "               '2018-12-03'],\n",
       "              dtype='datetime64[ns]', freq='BMS')"
      ]
     },
     "execution_count": 14,
     "metadata": {},
     "output_type": "execute_result"
    }
   ],
   "source": [
    "pd.date_range(\"2018-4-1\", \"2018-12-31\", freq=\"BMS\") # 각 달에서 처음으로 오는 평일만 생성"
   ]
  },
  {
   "cell_type": "code",
   "execution_count": 17,
   "metadata": {},
   "outputs": [
    {
     "data": {
      "text/plain": [
       "DatetimeIndex(['2018-04-30', '2018-05-31', '2018-06-29', '2018-07-31',\n",
       "               '2018-08-31', '2018-09-28', '2018-10-31', '2018-11-30',\n",
       "               '2018-12-31'],\n",
       "              dtype='datetime64[ns]', freq='BM')"
      ]
     },
     "execution_count": 17,
     "metadata": {},
     "output_type": "execute_result"
    }
   ],
   "source": [
    "pd.date_range('2018-4-1', '2018-12-31', freq='BM') # 각 달 마지막 평일"
   ]
  },
  {
   "cell_type": "code",
   "execution_count": 18,
   "metadata": {},
   "outputs": [
    {
     "data": {
      "text/plain": [
       "DatetimeIndex(['2018-04-12', '2018-05-10', '2018-06-14', '2018-07-12',\n",
       "               '2018-08-09', '2018-09-13', '2018-10-11', '2018-11-08',\n",
       "               '2018-12-13'],\n",
       "              dtype='datetime64[ns]', freq='WOM-2THU')"
      ]
     },
     "execution_count": 18,
     "metadata": {},
     "output_type": "execute_result"
    }
   ],
   "source": [
    "pd.date_range('2018-4-1', '2018-12-31', freq='WOM-2THU') # 각 달의 두번째 목요일"
   ]
  },
  {
   "cell_type": "code",
   "execution_count": 19,
   "metadata": {},
   "outputs": [
    {
     "data": {
      "text/plain": [
       "DatetimeIndex(['2018-01-31', '2018-04-30', '2018-07-31', '2018-10-31'], dtype='datetime64[ns]', freq='Q-JAN')"
      ]
     },
     "execution_count": 19,
     "metadata": {},
     "output_type": "execute_result"
    }
   ],
   "source": [
    "pd.date_range('2018-1-1', '2018-12-31', freq=\"Q-JAN\") # 각 사분기의 첫달 마지막날"
   ]
  },
  {
   "cell_type": "code",
   "execution_count": 20,
   "metadata": {},
   "outputs": [
    {
     "data": {
      "text/plain": [
       "DatetimeIndex(['2018-03-31', '2018-06-30', '2018-09-30', '2018-12-31'], dtype='datetime64[ns]', freq='Q-DEC')"
      ]
     },
     "execution_count": 20,
     "metadata": {},
     "output_type": "execute_result"
    }
   ],
   "source": [
    "pd.date_range('2018-1-1', '2018-12-31', freq=\"Q-DEC\") # 각 사분기의 마지막달 마지막날"
   ]
  },
  {
   "cell_type": "markdown",
   "metadata": {},
   "source": [
    "### shift 연산\n",
    "시계열 데이터의 인덱스는 시간이나 날짜를 나타내기 때문에 날짜 이동 등의 다양한 연산이 가능하다. 예를 들어 shift 연산을 사용하면 인덱스는 그대로 두고 데이터만 이동할 수도 있다."
   ]
  },
  {
   "cell_type": "code",
   "execution_count": 21,
   "metadata": {},
   "outputs": [
    {
     "data": {
      "text/plain": [
       "2018-01-31    1.764052\n",
       "2018-02-28    0.400157\n",
       "2018-03-31    0.978738\n",
       "2018-04-30    2.240893\n",
       "Freq: M, dtype: float64"
      ]
     },
     "execution_count": 21,
     "metadata": {},
     "output_type": "execute_result"
    }
   ],
   "source": [
    "# C 연산과 비슷한듯\n",
    "\n",
    "np.random.seed(0)\n",
    "ts = pd.Series(np.random.randn(4), index=pd.date_range(\"2018-1-1\", periods=4, freq=\"M\"))  \n",
    "#각 달의 마지막날만 인덱스로 4개 짜리 1D-Array 가우시안분포를 따르는 난수 생성 \n",
    "ts"
   ]
  },
  {
   "cell_type": "code",
   "execution_count": 22,
   "metadata": {},
   "outputs": [
    {
     "data": {
      "text/plain": [
       "2018-01-31         NaN\n",
       "2018-02-28    1.764052\n",
       "2018-03-31    0.400157\n",
       "2018-04-30    0.978738\n",
       "Freq: M, dtype: float64"
      ]
     },
     "execution_count": 22,
     "metadata": {},
     "output_type": "execute_result"
    }
   ],
   "source": [
    "ts.shift(1) # 인덱스는 그대로 있고 값들이 하나씩 >> 이동"
   ]
  },
  {
   "cell_type": "code",
   "execution_count": 23,
   "metadata": {},
   "outputs": [
    {
     "data": {
      "text/plain": [
       "2018-01-31    0.400157\n",
       "2018-02-28    0.978738\n",
       "2018-03-31    2.240893\n",
       "2018-04-30         NaN\n",
       "Freq: M, dtype: float64"
      ]
     },
     "execution_count": 23,
     "metadata": {},
     "output_type": "execute_result"
    }
   ],
   "source": [
    "ts.shift(-1) # 반대방향으로 이동 <<"
   ]
  },
  {
   "cell_type": "code",
   "execution_count": 24,
   "metadata": {},
   "outputs": [
    {
     "data": {
      "text/plain": [
       "2018-02-28    1.764052\n",
       "2018-03-31    0.400157\n",
       "2018-04-30    0.978738\n",
       "2018-05-31    2.240893\n",
       "Freq: M, dtype: float64"
      ]
     },
     "execution_count": 24,
     "metadata": {},
     "output_type": "execute_result"
    }
   ],
   "source": [
    "ts.shift(1, freq=\"M\")  # freq 인수를 지정하면 인덱스만 이동하고 값은 그대로"
   ]
  },
  {
   "cell_type": "code",
   "execution_count": 25,
   "metadata": {},
   "outputs": [
    {
     "data": {
      "text/plain": [
       "2018-02-04    1.764052\n",
       "2018-03-04    0.400157\n",
       "2018-04-01    0.978738\n",
       "2018-05-06    2.240893\n",
       "Freq: WOM-1SUN, dtype: float64"
      ]
     },
     "execution_count": 25,
     "metadata": {},
     "output_type": "execute_result"
    }
   ],
   "source": [
    "ts.shift(1, freq=\"W\") # 지정된 날짜의 다음 일요일만 생성"
   ]
  },
  {
   "cell_type": "code",
   "execution_count": 26,
   "metadata": {},
   "outputs": [
    {
     "data": {
      "text/plain": [
       "2018-01-28    1.764052\n",
       "2018-02-25    0.400157\n",
       "2018-03-25    0.978738\n",
       "2018-04-29    2.240893\n",
       "Freq: WOM-4SUN, dtype: float64"
      ]
     },
     "execution_count": 26,
     "metadata": {},
     "output_type": "execute_result"
    }
   ],
   "source": [
    "ts.shift(-1, freq=\"W\") # 지정된 날짜의 전 일요일만 생성"
   ]
  },
  {
   "cell_type": "markdown",
   "metadata": {},
   "source": [
    "### resample 연산\n",
    "resample 연산을 쓰면 시간 간격을 재조정하는 리샘플링(resampling)이 가능하다. 이 때 시간 구간이 짧아지면 데이터 양이 증가하여 업-샘플링(up-sampling)이라 하고 시간 구간이 짧아지면 데이터 양이 감소하여 다운-샘플링(down-sampling)이라 부른다."
   ]
  },
  {
   "cell_type": "code",
   "execution_count": 27,
   "metadata": {},
   "outputs": [
    {
     "data": {
      "text/plain": [
       "2018-04-01    0.356366\n",
       "2018-04-02    0.706573\n",
       "2018-04-03    0.010500\n",
       "2018-04-04    1.785870\n",
       "2018-04-05    0.126912\n",
       "2018-04-06    0.401989\n",
       "2018-04-07    1.883151\n",
       "2018-04-08   -1.347759\n",
       "2018-04-09   -1.270485\n",
       "2018-04-10    0.969397\n",
       "Freq: D, dtype: float64"
      ]
     },
     "execution_count": 27,
     "metadata": {},
     "output_type": "execute_result"
    }
   ],
   "source": [
    "ts = pd.Series(np.random.randn(100), index=pd.date_range(\"2018-1,1\", periods=100, freq=\"D\")) #일별로 100개 생성\n",
    "ts.tail(10)"
   ]
  },
  {
   "cell_type": "markdown",
   "metadata": {},
   "source": [
    "다운-샘플링의 경우에는 원래의 데이터가 그룹으로 묶이기 것이므로 그룹바이(groupby)와 같이 그룹 연산을 통해 대표값을 구해야 한다."
   ]
  },
  {
   "cell_type": "code",
   "execution_count": 28,
   "metadata": {},
   "outputs": [
    {
     "data": {
      "text/plain": [
       "2018-01-07    0.305776\n",
       "2018-01-14    0.629064\n",
       "2018-01-21   -0.006910\n",
       "2018-01-28    0.277065\n",
       "2018-02-04   -0.144972\n",
       "2018-02-11   -0.496299\n",
       "2018-02-18   -0.474473\n",
       "2018-02-25   -0.201222\n",
       "2018-03-04   -0.775142\n",
       "2018-03-11    0.052868\n",
       "2018-03-18   -0.450379\n",
       "2018-03-25    0.601892\n",
       "2018-04-01    0.334893\n",
       "2018-04-08    0.509605\n",
       "2018-04-15   -0.150544\n",
       "Freq: W-SUN, dtype: float64"
      ]
     },
     "execution_count": 28,
     "metadata": {},
     "output_type": "execute_result"
    }
   ],
   "source": [
    "ts.resample('W').mean()  # 주의 일요일별로 그룹핑하여 평균값을 생성"
   ]
  },
  {
   "cell_type": "code",
   "execution_count": 29,
   "metadata": {},
   "outputs": [
    {
     "data": {
      "text/plain": [
       "2018-01-31    1.867558\n",
       "2018-02-28    0.156349\n",
       "2018-03-31   -1.726283\n",
       "2018-04-30    0.356366\n",
       "Freq: M, dtype: float64"
      ]
     },
     "execution_count": 29,
     "metadata": {},
     "output_type": "execute_result"
    }
   ],
   "source": [
    "ts.resample(\"M\").first() # 각 달의 마지막날별로 그룹핑하여 그 값을 적용"
   ]
  },
  {
   "cell_type": "markdown",
   "metadata": {},
   "source": [
    "날짜가 아닌 시/분 단위에서는 구간의 왼쪽 한계값(가장 빠른 값)은 포함하고 오른쪽 한계값(가장 늦은 값)은 포함하지 않는다. 즉, 가장 늦은 값은 다음 구간에 포함된다. 예를 들어 10분 간격으로 구간을 만들면 10의 배수가 되는 시각은 구간의 시작점이 된다."
   ]
  },
  {
   "cell_type": "code",
   "execution_count": 30,
   "metadata": {},
   "outputs": [
    {
     "data": {
      "text/plain": [
       "2018-01-01 00:00:00   -1.173123\n",
       "2018-01-01 00:01:00    1.943621\n",
       "2018-01-01 00:02:00   -0.413619\n",
       "2018-01-01 00:03:00   -0.747455\n",
       "2018-01-01 00:04:00    1.922942\n",
       "2018-01-01 00:05:00    1.480515\n",
       "2018-01-01 00:06:00    1.867559\n",
       "2018-01-01 00:07:00    0.906045\n",
       "2018-01-01 00:08:00   -0.861226\n",
       "2018-01-01 00:09:00    1.910065\n",
       "2018-01-01 00:10:00   -0.268003\n",
       "2018-01-01 00:11:00    0.802456\n",
       "2018-01-01 00:12:00    0.947252\n",
       "2018-01-01 00:13:00   -0.155010\n",
       "2018-01-01 00:14:00    0.614079\n",
       "2018-01-01 00:15:00    0.922207\n",
       "2018-01-01 00:16:00    0.376426\n",
       "2018-01-01 00:17:00   -1.099401\n",
       "2018-01-01 00:18:00    0.298238\n",
       "2018-01-01 00:19:00    1.326386\n",
       "Freq: T, dtype: float64"
      ]
     },
     "execution_count": 30,
     "metadata": {},
     "output_type": "execute_result"
    }
   ],
   "source": [
    "ts = pd.Series(np.random.randn(60), index=pd.date_range(\"2018-1-1\", periods=60, freq=\"T\"))  # 시간 단위로 생성\n",
    "ts.head(20)"
   ]
  },
  {
   "cell_type": "code",
   "execution_count": 31,
   "metadata": {},
   "outputs": [
    {
     "data": {
      "text/plain": [
       "2018-01-01 00:00:00    6.835324\n",
       "2018-01-01 00:10:00    3.764630\n",
       "2018-01-01 00:20:00    0.776495\n",
       "2018-01-01 00:30:00   -0.538336\n",
       "2018-01-01 00:40:00    1.828234\n",
       "2018-01-01 00:50:00    0.167957\n",
       "Freq: 10T, dtype: float64"
      ]
     },
     "execution_count": 31,
     "metadata": {},
     "output_type": "execute_result"
    }
   ],
   "source": [
    "ts.resample('10T').sum()  # 10분 단위로 리샘플링하여 10분마다의 합계를 대표값으로 적용"
   ]
  },
  {
   "cell_type": "markdown",
   "metadata": {},
   "source": [
    "왼쪽이 아니라 오른쪽 한계값을 구간에 포함하려면 closed=\"right\" 인수를 사용한다. 이 때는 10의 배수가 되는 시각이 앞 구간에 포함된다."
   ]
  },
  {
   "cell_type": "code",
   "execution_count": 32,
   "metadata": {},
   "outputs": [
    {
     "data": {
      "text/plain": [
       "2017-12-31 23:50:00   -1.173123\n",
       "2018-01-01 00:00:00    7.740444\n",
       "2018-01-01 00:10:00    3.338065\n",
       "2018-01-01 00:20:00    0.835217\n",
       "2018-01-01 00:30:00    2.480654\n",
       "2018-01-01 00:40:00   -0.653363\n",
       "2018-01-01 00:50:00    0.266409\n",
       "Freq: 10T, dtype: float64"
      ]
     },
     "execution_count": 32,
     "metadata": {},
     "output_type": "execute_result"
    }
   ],
   "source": [
    "ts.resample('10T', closed='right').sum()"
   ]
  },
  {
   "cell_type": "markdown",
   "metadata": {},
   "source": [
    "ohlc 메서드는 구간의 시고저종(open, high, low, close)값을 구한다."
   ]
  },
  {
   "cell_type": "code",
   "execution_count": 33,
   "metadata": {},
   "outputs": [
    {
     "data": {
      "text/html": [
       "<div>\n",
       "<style scoped>\n",
       "    .dataframe tbody tr th:only-of-type {\n",
       "        vertical-align: middle;\n",
       "    }\n",
       "\n",
       "    .dataframe tbody tr th {\n",
       "        vertical-align: top;\n",
       "    }\n",
       "\n",
       "    .dataframe thead th {\n",
       "        text-align: right;\n",
       "    }\n",
       "</style>\n",
       "<table border=\"1\" class=\"dataframe\">\n",
       "  <thead>\n",
       "    <tr style=\"text-align: right;\">\n",
       "      <th></th>\n",
       "      <th>open</th>\n",
       "      <th>high</th>\n",
       "      <th>low</th>\n",
       "      <th>close</th>\n",
       "    </tr>\n",
       "  </thead>\n",
       "  <tbody>\n",
       "    <tr>\n",
       "      <th>2018-01-01 00:00:00</th>\n",
       "      <td>-1.173123</td>\n",
       "      <td>1.943621</td>\n",
       "      <td>-1.173123</td>\n",
       "      <td>1.922942</td>\n",
       "    </tr>\n",
       "    <tr>\n",
       "      <th>2018-01-01 00:05:00</th>\n",
       "      <td>1.480515</td>\n",
       "      <td>1.910065</td>\n",
       "      <td>-0.861226</td>\n",
       "      <td>1.910065</td>\n",
       "    </tr>\n",
       "    <tr>\n",
       "      <th>2018-01-01 00:10:00</th>\n",
       "      <td>-0.268003</td>\n",
       "      <td>0.947252</td>\n",
       "      <td>-0.268003</td>\n",
       "      <td>0.614079</td>\n",
       "    </tr>\n",
       "    <tr>\n",
       "      <th>2018-01-01 00:15:00</th>\n",
       "      <td>0.922207</td>\n",
       "      <td>1.326386</td>\n",
       "      <td>-1.099401</td>\n",
       "      <td>1.326386</td>\n",
       "    </tr>\n",
       "    <tr>\n",
       "      <th>2018-01-01 00:20:00</th>\n",
       "      <td>-0.694568</td>\n",
       "      <td>1.849264</td>\n",
       "      <td>-0.694568</td>\n",
       "      <td>0.672295</td>\n",
       "    </tr>\n",
       "    <tr>\n",
       "      <th>2018-01-01 00:25:00</th>\n",
       "      <td>0.407462</td>\n",
       "      <td>0.539249</td>\n",
       "      <td>-0.769916</td>\n",
       "      <td>0.031831</td>\n",
       "    </tr>\n",
       "    <tr>\n",
       "      <th>2018-01-01 00:30:00</th>\n",
       "      <td>-0.635846</td>\n",
       "      <td>0.676433</td>\n",
       "      <td>-0.635846</td>\n",
       "      <td>0.396007</td>\n",
       "    </tr>\n",
       "    <tr>\n",
       "      <th>2018-01-01 00:35:00</th>\n",
       "      <td>-1.093062</td>\n",
       "      <td>0.635031</td>\n",
       "      <td>-1.491258</td>\n",
       "      <td>0.635031</td>\n",
       "    </tr>\n",
       "    <tr>\n",
       "      <th>2018-01-01 00:40:00</th>\n",
       "      <td>2.383145</td>\n",
       "      <td>2.383145</td>\n",
       "      <td>-1.315907</td>\n",
       "      <td>-1.315907</td>\n",
       "    </tr>\n",
       "    <tr>\n",
       "      <th>2018-01-01 00:45:00</th>\n",
       "      <td>-0.461585</td>\n",
       "      <td>1.713343</td>\n",
       "      <td>-0.826439</td>\n",
       "      <td>-0.826439</td>\n",
       "    </tr>\n",
       "    <tr>\n",
       "      <th>2018-01-01 00:50:00</th>\n",
       "      <td>-0.098453</td>\n",
       "      <td>1.126636</td>\n",
       "      <td>-1.147469</td>\n",
       "      <td>-1.147469</td>\n",
       "    </tr>\n",
       "    <tr>\n",
       "      <th>2018-01-01 00:55:00</th>\n",
       "      <td>-0.437820</td>\n",
       "      <td>1.929532</td>\n",
       "      <td>-0.498032</td>\n",
       "      <td>0.087551</td>\n",
       "    </tr>\n",
       "  </tbody>\n",
       "</table>\n",
       "</div>"
      ],
      "text/plain": [
       "                         open      high       low     close\n",
       "2018-01-01 00:00:00 -1.173123  1.943621 -1.173123  1.922942\n",
       "2018-01-01 00:05:00  1.480515  1.910065 -0.861226  1.910065\n",
       "2018-01-01 00:10:00 -0.268003  0.947252 -0.268003  0.614079\n",
       "2018-01-01 00:15:00  0.922207  1.326386 -1.099401  1.326386\n",
       "2018-01-01 00:20:00 -0.694568  1.849264 -0.694568  0.672295\n",
       "2018-01-01 00:25:00  0.407462  0.539249 -0.769916  0.031831\n",
       "2018-01-01 00:30:00 -0.635846  0.676433 -0.635846  0.396007\n",
       "2018-01-01 00:35:00 -1.093062  0.635031 -1.491258  0.635031\n",
       "2018-01-01 00:40:00  2.383145  2.383145 -1.315907 -1.315907\n",
       "2018-01-01 00:45:00 -0.461585  1.713343 -0.826439 -0.826439\n",
       "2018-01-01 00:50:00 -0.098453  1.126636 -1.147469 -1.147469\n",
       "2018-01-01 00:55:00 -0.437820  1.929532 -0.498032  0.087551"
      ]
     },
     "execution_count": 33,
     "metadata": {},
     "output_type": "execute_result"
    }
   ],
   "source": [
    "ts.resample(\"5T\").ohlc() # 중요 메서드!!!"
   ]
  },
  {
   "cell_type": "markdown",
   "metadata": {},
   "source": [
    "### Upsampling\n",
    "\n",
    "업-샘플링의 경우에는 실제로 존재하지 않는 데이터를 만들어야 한다. 데이터 수가 많아지기 때문에.... 이 때는 앞에서 나온 데이터를 뒤에서 그대로 쓰는 forward filling 방식과 뒤에서 나올 데이터를 앞에서 미리 쓰는 backward filling 방식을 사용할 수 있다. 각각 ffill, bfill 메서드를 이용한다."
   ]
  },
  {
   "cell_type": "code",
   "execution_count": 34,
   "metadata": {},
   "outputs": [
    {
     "data": {
      "text/plain": [
       "2018-01-01 00:00:00   -1.173123\n",
       "2018-01-01 00:00:30   -1.173123\n",
       "2018-01-01 00:01:00    1.943621\n",
       "2018-01-01 00:01:30    1.943621\n",
       "2018-01-01 00:02:00   -0.413619\n",
       "Freq: 30S, dtype: float64"
      ]
     },
     "execution_count": 34,
     "metadata": {},
     "output_type": "execute_result"
    }
   ],
   "source": [
    "ts.resample('30s').ffill().head() # 30초마다 샘플링... 1시간--> 30초로 dkv epdlxjfmf rkr "
   ]
  },
  {
   "cell_type": "code",
   "execution_count": 35,
   "metadata": {},
   "outputs": [
    {
     "data": {
      "text/plain": [
       "2018-01-01 00:00:00   -1.173123\n",
       "2018-01-01 00:00:30    1.943621\n",
       "2018-01-01 00:01:00    1.943621\n",
       "2018-01-01 00:01:30   -0.413619\n",
       "2018-01-01 00:02:00   -0.413619\n",
       "Freq: 30S, dtype: float64"
      ]
     },
     "execution_count": 35,
     "metadata": {},
     "output_type": "execute_result"
    }
   ],
   "source": [
    "ts.resample('30s').bfill().head()"
   ]
  },
  {
   "cell_type": "code",
   "execution_count": null,
   "metadata": {},
   "outputs": [],
   "source": []
  }
 ],
 "metadata": {
  "kernelspec": {
   "display_name": "Python 3",
   "language": "python",
   "name": "python3"
  },
  "language_info": {
   "codemirror_mode": {
    "name": "ipython",
    "version": 3
   },
   "file_extension": ".py",
   "mimetype": "text/x-python",
   "name": "python",
   "nbconvert_exporter": "python",
   "pygments_lexer": "ipython3",
   "version": "3.5.1"
  }
 },
 "nbformat": 4,
 "nbformat_minor": 2
}
